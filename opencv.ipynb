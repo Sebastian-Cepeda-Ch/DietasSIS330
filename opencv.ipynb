{
 "cells": [
  {
   "cell_type": "code",
   "execution_count": 1,
   "id": "0155c8c1",
   "metadata": {},
   "outputs": [
    {
     "name": "stdout",
     "output_type": "stream",
     "text": [
      "Requirement already satisfied: opencv-python in c:\\users\\sebce\\anaconda3\\envs\\opencv_env\\lib\\site-packages (4.10.0)\n",
      "Requirement already satisfied: mediapipe in c:\\users\\sebce\\anaconda3\\envs\\opencv_env\\lib\\site-packages (0.10.21)\n",
      "Requirement already satisfied: absl-py in c:\\users\\sebce\\anaconda3\\envs\\opencv_env\\lib\\site-packages (from mediapipe) (2.3.1)\n",
      "Requirement already satisfied: attrs>=19.1.0 in c:\\users\\sebce\\anaconda3\\envs\\opencv_env\\lib\\site-packages (from mediapipe) (25.4.0)\n",
      "Requirement already satisfied: flatbuffers>=2.0 in c:\\users\\sebce\\anaconda3\\envs\\opencv_env\\lib\\site-packages (from mediapipe) (25.9.23)\n",
      "Requirement already satisfied: jax in c:\\users\\sebce\\anaconda3\\envs\\opencv_env\\lib\\site-packages (from mediapipe) (0.7.1)\n",
      "Requirement already satisfied: jaxlib in c:\\users\\sebce\\anaconda3\\envs\\opencv_env\\lib\\site-packages (from mediapipe) (0.7.1)\n",
      "Requirement already satisfied: matplotlib in c:\\users\\sebce\\anaconda3\\envs\\opencv_env\\lib\\site-packages (from mediapipe) (3.10.6)\n",
      "Requirement already satisfied: numpy<2 in c:\\users\\sebce\\anaconda3\\envs\\opencv_env\\lib\\site-packages (from mediapipe) (1.26.4)\n",
      "Requirement already satisfied: opencv-contrib-python in c:\\users\\sebce\\anaconda3\\envs\\opencv_env\\lib\\site-packages (from mediapipe) (4.11.0.86)\n",
      "Requirement already satisfied: protobuf<5,>=4.25.3 in c:\\users\\sebce\\anaconda3\\envs\\opencv_env\\lib\\site-packages (from mediapipe) (4.25.8)\n",
      "Requirement already satisfied: sounddevice>=0.4.4 in c:\\users\\sebce\\anaconda3\\envs\\opencv_env\\lib\\site-packages (from mediapipe) (0.5.2)\n",
      "Requirement already satisfied: sentencepiece in c:\\users\\sebce\\anaconda3\\envs\\opencv_env\\lib\\site-packages (from mediapipe) (0.2.1)\n",
      "Requirement already satisfied: CFFI>=1.0 in c:\\users\\sebce\\anaconda3\\envs\\opencv_env\\lib\\site-packages (from sounddevice>=0.4.4->mediapipe) (2.0.0)\n",
      "Requirement already satisfied: pycparser in c:\\users\\sebce\\anaconda3\\envs\\opencv_env\\lib\\site-packages (from CFFI>=1.0->sounddevice>=0.4.4->mediapipe) (2.23)\n",
      "Requirement already satisfied: ml_dtypes>=0.5.0 in c:\\users\\sebce\\anaconda3\\envs\\opencv_env\\lib\\site-packages (from jax->mediapipe) (0.5.3)\n",
      "Requirement already satisfied: opt_einsum in c:\\users\\sebce\\anaconda3\\envs\\opencv_env\\lib\\site-packages (from jax->mediapipe) (3.4.0)\n",
      "Requirement already satisfied: scipy>=1.12 in c:\\users\\sebce\\anaconda3\\envs\\opencv_env\\lib\\site-packages (from jax->mediapipe) (1.16.2)\n",
      "Requirement already satisfied: contourpy>=1.0.1 in c:\\users\\sebce\\anaconda3\\envs\\opencv_env\\lib\\site-packages (from matplotlib->mediapipe) (1.3.3)\n",
      "Requirement already satisfied: cycler>=0.10 in c:\\users\\sebce\\anaconda3\\envs\\opencv_env\\lib\\site-packages (from matplotlib->mediapipe) (0.12.1)\n",
      "Requirement already satisfied: fonttools>=4.22.0 in c:\\users\\sebce\\anaconda3\\envs\\opencv_env\\lib\\site-packages (from matplotlib->mediapipe) (4.60.1)\n",
      "Requirement already satisfied: kiwisolver>=1.3.1 in c:\\users\\sebce\\anaconda3\\envs\\opencv_env\\lib\\site-packages (from matplotlib->mediapipe) (1.4.9)\n",
      "Requirement already satisfied: packaging>=20.0 in c:\\users\\sebce\\anaconda3\\envs\\opencv_env\\lib\\site-packages (from matplotlib->mediapipe) (25.0)\n",
      "Requirement already satisfied: pillow>=8 in c:\\users\\sebce\\anaconda3\\envs\\opencv_env\\lib\\site-packages (from matplotlib->mediapipe) (11.3.0)\n",
      "Requirement already satisfied: pyparsing>=2.3.1 in c:\\users\\sebce\\anaconda3\\envs\\opencv_env\\lib\\site-packages (from matplotlib->mediapipe) (3.2.5)\n",
      "Requirement already satisfied: python-dateutil>=2.7 in c:\\users\\sebce\\anaconda3\\envs\\opencv_env\\lib\\site-packages (from matplotlib->mediapipe) (2.9.0.post0)\n",
      "Requirement already satisfied: six>=1.5 in c:\\users\\sebce\\anaconda3\\envs\\opencv_env\\lib\\site-packages (from python-dateutil>=2.7->matplotlib->mediapipe) (1.17.0)\n"
     ]
    }
   ],
   "source": [
    "# First, install the required libraries\n",
    "!pip install opencv-python mediapipe"
   ]
  },
  {
   "cell_type": "code",
   "execution_count": 7,
   "id": "0466217b",
   "metadata": {},
   "outputs": [
    {
     "name": "stdout",
     "output_type": "stream",
     "text": [
      "Ancho de hombros: 0.2897\n",
      "Ancho de caderas: 0.1653\n",
      "Distancia hombro a cadera (izq): 0.2457\n",
      "Distancia hombro a cadera (der): 0.2424\n"
     ]
    }
   ],
   "source": [
    "import cv2\n",
    "import mediapipe as mp\n",
    "import math\n",
    "\n",
    "# Inicializar mediapipe pose\n",
    "mp_drawing = mp.solutions.drawing_utils\n",
    "mp_pose = mp.solutions.pose\n",
    "\n",
    "# Función para calcular distancia euclidiana\n",
    "def distancia(p1, p2):\n",
    "    return math.sqrt((p2.x - p1.x)**2 + (p2.y - p1.y)**2)\n",
    "\n",
    "# Cargar imagen\n",
    "imagen_path = r\"F:\\Repos\\SIS330\\dataset\\endoAnimado.jpg\"  # Cambia por la ruta de tu imagen\n",
    "image = cv2.imread(imagen_path)\n",
    "\n",
    "# Convertir a RGB\n",
    "image_rgb = cv2.cvtColor(image, cv2.COLOR_BGR2RGB)\n",
    "\n",
    "# Procesar imagen con MediaPipe Pose\n",
    "with mp_pose.Pose(static_image_mode=True, min_detection_confidence=0.5) as pose:\n",
    "    results = pose.process(image_rgb)\n",
    "\n",
    "    if results.pose_landmarks:\n",
    "        lm = results.pose_landmarks.landmark\n",
    "\n",
    "        hombro_izq = lm[mp_pose.PoseLandmark.LEFT_SHOULDER]\n",
    "        hombro_der = lm[mp_pose.PoseLandmark.RIGHT_SHOULDER]\n",
    "        cadera_izq = lm[mp_pose.PoseLandmark.LEFT_HIP]\n",
    "        cadera_der = lm[mp_pose.PoseLandmark.RIGHT_HIP]\n",
    "\n",
    "        # Calcular medidas normalizadas (0–1)\n",
    "        ancho_hombros = distancia(hombro_izq, hombro_der)\n",
    "        ancho_caderas = distancia(cadera_izq, cadera_der)\n",
    "        hombro_a_cadera_izq = distancia(hombro_izq, cadera_izq)\n",
    "        hombro_a_cadera_der = distancia(hombro_der, cadera_der)\n",
    "\n",
    "        # Dibujar los landmarks en la imagen\n",
    "        mp_drawing.draw_landmarks(image, results.pose_landmarks, mp_pose.POSE_CONNECTIONS)\n",
    "\n",
    "        # Mostrar medidas en consola\n",
    "        print(f\"Ancho de hombros: {ancho_hombros:.4f}\")\n",
    "        print(f\"Ancho de caderas: {ancho_caderas:.4f}\")\n",
    "        print(f\"Distancia hombro a cadera (izq): {hombro_a_cadera_izq:.4f}\")\n",
    "        print(f\"Distancia hombro a cadera (der): {hombro_a_cadera_der:.4f}\")\n",
    "\n",
    "        # Mostrar imagen con dibujo\n",
    "        cv2.imshow(\"Pose detectada\", image)\n",
    "        cv2.waitKey(0)\n",
    "        cv2.destroyAllWindows()\n",
    "    else:\n",
    "        print(\"No se detectó ninguna persona en la imagen.\")"
   ]
  },
  {
   "cell_type": "code",
   "execution_count": null,
   "id": "1aefba1e",
   "metadata": {},
   "outputs": [
    {
     "name": "stdout",
     "output_type": "stream",
     "text": [
      "Ancho de hombros: 179.55 px\n",
      "Ancho de caderas: 99.05 px\n",
      "Distancia hombro-cadera: 243.21 px\n"
     ]
    }
   ],
   "source": [
    "import cv2\n",
    "import mediapipe as mp\n",
    "import math\n",
    "\n",
    "# Inicializar MediaPipe Pose y las utilidades de dibujo\n",
    "mp_drawing = mp.solutions.drawing_utils\n",
    "mp_pose = mp.solutions.pose\n",
    "\n",
    "# Ruta de tu imagen (ajusta esta línea según tu archivo)\n",
    "imagen_path = r\"F:\\Repos\\SIS330\\DietasSIS330\\dataset\\persona_0_1.jpg\"\n",
    "\n",
    "# Leer imagen\n",
    "image = cv2.imread(imagen_path)\n",
    "if image is None:\n",
    "    print(\"⚠️ No se pudo cargar la imagen. Verifica la ruta o el nombre del archivo.\")\n",
    "    exit()\n",
    "\n",
    "# Convertir a RGB\n",
    "image_rgb = cv2.cvtColor(image, cv2.COLOR_BGR2RGB)\n",
    "\n",
    "# Procesar imagen con MediaPipe Pose\n",
    "with mp_pose.Pose(static_image_mode=True, min_detection_confidence=0.5) as pose:\n",
    "    results = pose.process(image_rgb)\n",
    "\n",
    "# Verificar detección\n",
    "if not results.pose_landmarks:\n",
    "    print(\"No se detectaron puntos de referencia corporales.\")\n",
    "else:\n",
    "    # Dibujar el esqueleto sobre la imagen\n",
    "    mp_drawing.draw_landmarks(\n",
    "        image,\n",
    "        results.pose_landmarks,\n",
    "        mp_pose.POSE_CONNECTIONS,\n",
    "        mp_drawing.DrawingSpec(color=(0,255,0), thickness=2, circle_radius=2),\n",
    "        mp_drawing.DrawingSpec(color=(0,0,255), thickness=2)\n",
    "    )\n",
    "\n",
    "    # Obtener landmarks\n",
    "    landmarks = results.pose_landmarks.landmark\n",
    "\n",
    "    # Coordenadas necesarias\n",
    "    left_shoulder = landmarks[mp_pose.PoseLandmark.LEFT_SHOULDER.value]\n",
    "    right_shoulder = landmarks[mp_pose.PoseLandmark.RIGHT_SHOULDER.value]\n",
    "    left_hip = landmarks[mp_pose.PoseLandmark.LEFT_HIP.value]\n",
    "    right_hip = landmarks[mp_pose.PoseLandmark.RIGHT_HIP.value]\n",
    "\n",
    "    # Convertir a píxeles\n",
    "    h, w, _ = image.shape\n",
    "    ls = (int(left_shoulder.x * w), int(left_shoulder.y * h))\n",
    "    rs = (int(right_shoulder.x * w), int(right_shoulder.y * h))\n",
    "    lh = (int(left_hip.x * w), int(left_hip.y * h))\n",
    "    rh = (int(right_hip.x * w), int(right_hip.y * h))\n",
    "\n",
    "    # Calcular medidas\n",
    "    ancho_hombros = math.dist(ls, rs)\n",
    "    ancho_caderas = math.dist(lh, rh)\n",
    "    dist_hombro_cadera = (math.dist(ls, lh) + math.dist(rs, rh)) / 2\n",
    "\n",
    "    print(f\"Ancho de hombros: {ancho_hombros:.2f} px\")\n",
    "    print(f\"Ancho de caderas: {ancho_caderas:.2f} px\")\n",
    "    print(f\"Distancia hombro-cadera: {dist_hombro_cadera:.2f} px\")\n",
    "    \n",
    "    if image is None:\n",
    "        print(\"⚠️ No se pudo cargar la imagen. Verifica la ruta o el nombre del archivo.\")\n",
    "        exit() # <--- ¡El código termina aquí!\n",
    "\n",
    "    # Mostrar resultado\n",
    "    cv2.imshow(\"Esqueleto detectado\", image)\n",
    "    cv2.waitKey(0)\n",
    "    cv2.destroyAllWindows()\n",
    "   \n"
   ]
  },
  {
   "cell_type": "code",
   "execution_count": null,
   "id": "6a3c580a",
   "metadata": {},
   "outputs": [
    {
     "ename": "IndentationError",
     "evalue": "unexpected indent (223766400.py, line 2)",
     "output_type": "error",
     "traceback": [
      "  \u001b[36mCell\u001b[39m\u001b[36m \u001b[39m\u001b[32mIn[2]\u001b[39m\u001b[32m, line 2\u001b[39m\n\u001b[31m    \u001b[39m\u001b[31mcv2.imshow(\"Esqueleto detectado\", image)\u001b[39m\n    ^\n\u001b[31mIndentationError\u001b[39m\u001b[31m:\u001b[39m unexpected indent\n"
     ]
    }
   ],
   "source": []
  }
 ],
 "metadata": {
  "kernelspec": {
   "display_name": "opencv_env",
   "language": "python",
   "name": "python3"
  },
  "language_info": {
   "codemirror_mode": {
    "name": "ipython",
    "version": 3
   },
   "file_extension": ".py",
   "mimetype": "text/x-python",
   "name": "python",
   "nbconvert_exporter": "python",
   "pygments_lexer": "ipython3",
   "version": "3.12.11"
  }
 },
 "nbformat": 4,
 "nbformat_minor": 5
}
